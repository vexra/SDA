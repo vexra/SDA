{
  "nbformat": 4,
  "nbformat_minor": 0,
  "metadata": {
    "colab": {
      "provenance": []
    },
    "kernelspec": {
      "name": "python3",
      "display_name": "Python 3"
    },
    "language_info": {
      "name": "python"
    }
  },
  "cells": [
    {
      "cell_type": "code",
      "execution_count": 4,
      "metadata": {
        "colab": {
          "base_uri": "https://localhost:8080/"
        },
        "id": "azxruLj6a-ER",
        "outputId": "96da2414-7003-404a-8e05-3bcfb4e137f8"
      },
      "outputs": [
        {
          "output_type": "stream",
          "name": "stdout",
          "text": [
            "96\n",
            "24\n",
            "24\n"
          ]
        }
      ],
      "source": [
        "#Nomor 1 Mencari FEB\n",
        "\n",
        "def fpb(val1, val2):\n",
        "  res = 1\n",
        "  stop = min(val1, val2)+1\n",
        "\n",
        "  for i in range(1, stop):\n",
        "    if val1 % i == 0 and val2 % i == 0:\n",
        "      res = i\n",
        "  return res\n",
        "\n",
        "val1 = int(input())\n",
        "val2 = int(input())\n",
        "\n",
        "print(fpb(val1, val2))\n",
        "  \n"
      ]
    },
    {
      "cell_type": "code",
      "source": [
        "#Nomor 2 mencari KPK\n",
        "\n",
        "def fpb(val1, val2):\n",
        "  res = 1\n",
        "  stop = min(val1, val2)+1\n",
        "\n",
        "  for i in range(1, stop):\n",
        "    if val1 % i == 0 and val2 % i == 0:\n",
        "      res = i\n",
        "  return res\n",
        "\n",
        "def kpk(val1, val2):\n",
        "  res = val1 / fpb(val1, val2) * val2\n",
        "\n",
        "  return res\n",
        "\n",
        "val1 = int(input())\n",
        "val2 = int(input())\n",
        "\n",
        "print(int(kpk(val1, val2)))\n"
      ],
      "metadata": {
        "colab": {
          "base_uri": "https://localhost:8080/"
        },
        "id": "zfkzEOrWcL8l",
        "outputId": "7580e04d-f4d9-4122-8153-0cb498d58de5"
      },
      "execution_count": 6,
      "outputs": [
        {
          "output_type": "stream",
          "name": "stdout",
          "text": [
            "20\n",
            "12\n",
            "60\n"
          ]
        }
      ]
    },
    {
      "cell_type": "markdown",
      "source": [
        "\n",
        "#PROGRAM KALKULATOR PENUMLAHAN PENGURANGAN PERKALIAN DAN PEMBAGIAN\n",
        "\n",
        "var1: float                    {deklarasi variabel pertama}\n",
        "var2: float                    {deklarasi variabel kedua}\n",
        "\n",
        "Read(var1)                     {membaca nilai dari konsole}\n",
        "Read(var2)                     {membaca nilai dari konsole}\n",
        "\n",
        "penjumlahan: float             {deklarasi variabel untuk penjumlahan}\n",
        "pengurangan: float             {deklarasi variabel untuk pengurangan}\n",
        "perkalian: float               {deklarasi variabel untuk perkalian}\n",
        "pembagian: float               {deklarasi variabel untuk pembagian}\n",
        "\n",
        "penjumlahan <- var1+var2       {hitung nilai dari penjumlahan var1 dan var2}\n",
        "pengurangan <- var1-var2       {hitung nilai dari pengurangan var1 dan var2}\n",
        "perkalian   <- var1*var2       {hitung nilai dari perkalian var1 dan var2}\n",
        "pembagian   <- var1/var2       {hitung nilai dari pembagian var1 dan var2}\n",
        "\n",
        "\n",
        "write(\"hasil dari penjumlahan nilai pertama dan kedua : \", penjumlahan)\n",
        "write(\"hasil dari pengurangan nilai pertama dan kedua : \", pengurangan)\n",
        "write(\"hasil dari perkalian nilai pertama dan kedua : \", perkalian)\n",
        "write(\"hasil dari pembagian nilai pertama dan kedua : \", pembagian)"
      ],
      "metadata": {
        "id": "LZ2GWbE_dP7V"
      }
    },
    {
      "cell_type": "markdown",
      "source": [],
      "metadata": {
        "id": "qMD6DnDSfbKy"
      }
    },
    {
      "cell_type": "markdown",
      "source": [
        "#program menghitung luas dan keliling dari belah ketupat\n",
        "\n",
        "sisi: float {deklarasi variabel untuk panjang sisi belah ketupat}\n",
        "d1: float   {deklarasi variabel untuk panjang dari setengah belah ketupat}\n",
        "d2: float {deklarasi variabel untuk panjang dari setengah belah ketupat}\n",
        "keliling: float {deklarasi variabel untuk keliling}\n",
        "luas: float     {deklarasi variabel untuk luas belah ketupat}\n",
        "\n",
        "read(sisi)      {membaca nilai panjang sisi dari konsole}\n",
        "read(d1)        {membaca nilai panjang d1 dari konsole}\n",
        "read(d2)        {membaca nilai panjang d2 dari konsole}\n",
        "\n",
        "luas <- 1/2 * d1 * d2\n",
        "keliling <- 4 * s\n",
        "\n",
        "write(\"Keliling dari belah ketupat adalah: \", keliling)\n",
        "write(\"luas dari belah ketupat adalah: \", luas)"
      ],
      "metadata": {
        "id": "9nbyk6HPfn7K"
      }
    },
    {
      "cell_type": "markdown",
      "source": [
        "#nomor 5 jika array belum di sorting atau diurutkan\n",
        "\n",
        "untuk kasus terbaik terjadi jika nilai minimum tepat berada di index[0] dari array. jadi kompleksitas waktu hanya O(1)\n",
        "\n",
        "untuk kasus terburuk terjadi jika nilai minimum tepat berada di akhir array atau di index[n-1]. jadi kompleksitas waktunya adalah O(n)\n",
        "\n",
        "sementara untuk kasus rata rata adalah O(n/2). atau setengah dari banyaknya data"
      ],
      "metadata": {
        "id": "fPdQmlzfhYKC"
      }
    }
  ]
}